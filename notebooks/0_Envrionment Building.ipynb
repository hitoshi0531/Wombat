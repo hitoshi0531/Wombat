{
 "cells": [
  {
   "cell_type": "markdown",
   "metadata": {},
   "source": [
    "## Create Workspace with cookiecutter"
   ]
  },
  {
   "cell_type": "code",
   "execution_count": null,
   "metadata": {},
   "outputs": [],
   "source": [
    "#Chnage directory to the project folder   \n",
    "cd C:\\Projects\n",
    "\n"
   ]
  },
  {
   "cell_type": "code",
   "execution_count": null,
   "metadata": {},
   "outputs": [],
   "source": [
    "#create project with Cookiecutter\n",
    "cookiecutter -c v1 https://github.com/drivendata/cookiecutter-data-science"
   ]
  },
  {
   "cell_type": "code",
   "execution_count": null,
   "metadata": {},
   "outputs": [],
   "source": [
    "#Enter the specification as below\n",
    "project_name [project_name]: Wombat  \n",
    "repo_name [wombat]: \n",
    "author_name [Your name (or your organization/company/team)]: Hitoshi\n",
    "description [A short description of the project.]: \n",
    "Select open_source_license:\n",
    "1 - MIT\n",
    "2 - BSD-3-Clause\n",
    "3 - No license file\n",
    "Choose from 1, 2, 3 [1]: 3\n",
    "s3_bucket [[OPTIONAL] your-bucket-for-syncing-data (do not include 's3://')]: \n",
    "aws_profile [default]: \n",
    "Select python_interpreter:\n",
    "1 - python3\n",
    "2 - python\n",
    "Choose from 1, 2 [1]: 1"
   ]
  },
  {
   "cell_type": "code",
   "execution_count": null,
   "metadata": {},
   "outputs": [],
   "source": [
    "#change directory\n",
    "cd wombat"
   ]
  },
  {
   "cell_type": "markdown",
   "metadata": {},
   "source": [
    "## Create a Dockerfile"
   ]
  },
  {
   "cell_type": "code",
   "execution_count": null,
   "metadata": {},
   "outputs": [],
   "source": [
    "#Create a Dockerfile\n",
    "vi Dockerfile\n",
    "\n",
    "#It includes the following content:  \n",
    "'''\n",
    "FROM jupyter/scipy-notebook:python-3.8.13  \n",
    "RUN conda install xgboost  \n",
    "RUN conda install boto3  \n",
    "RUN conda install s3fs  \n",
    "RUN conda install lime  \n",
    "RUN conda install hyperopt  \n",
    "RUN conda install graphviz  \n",
    "RUN pip install torch torchvision torchtext --extra-index-url https://download.pytorch.org/whl/cpu  \n",
    "RUN conda install yellowbrick  \n",
    "RUN pip install mlflow  \n",
    "RUN pip install psycopg2-binary  \n",
    "ENV PYTHONPATH \"${PYTHONPATH}:/home/jovyan/work\"  \n",
    "WORKDIR /home/jovyan/work  \n",
    "'''"
   ]
  },
  {
   "cell_type": "code",
   "execution_count": null,
   "metadata": {},
   "outputs": [],
   "source": [
    "#build the docker image from the Dockerfile above\n",
    "docker build -t wombat-notebook:latest ."
   ]
  },
  {
   "cell_type": "code",
   "execution_count": null,
   "metadata": {},
   "outputs": [],
   "source": []
  },
  {
   "cell_type": "code",
   "execution_count": null,
   "metadata": {},
   "outputs": [],
   "source": []
  },
  {
   "cell_type": "code",
   "execution_count": null,
   "metadata": {},
   "outputs": [],
   "source": []
  },
  {
   "cell_type": "code",
   "execution_count": null,
   "metadata": {},
   "outputs": [],
   "source": []
  },
  {
   "cell_type": "code",
   "execution_count": null,
   "metadata": {},
   "outputs": [],
   "source": []
  },
  {
   "cell_type": "code",
   "execution_count": null,
   "metadata": {},
   "outputs": [],
   "source": []
  },
  {
   "cell_type": "code",
   "execution_count": null,
   "metadata": {},
   "outputs": [],
   "source": []
  },
  {
   "cell_type": "code",
   "execution_count": null,
   "metadata": {},
   "outputs": [],
   "source": []
  },
  {
   "cell_type": "code",
   "execution_count": null,
   "metadata": {},
   "outputs": [],
   "source": []
  },
  {
   "cell_type": "code",
   "execution_count": null,
   "metadata": {},
   "outputs": [],
   "source": []
  },
  {
   "cell_type": "code",
   "execution_count": null,
   "metadata": {},
   "outputs": [],
   "source": []
  },
  {
   "cell_type": "code",
   "execution_count": null,
   "metadata": {},
   "outputs": [],
   "source": []
  },
  {
   "cell_type": "code",
   "execution_count": null,
   "metadata": {},
   "outputs": [],
   "source": []
  }
 ],
 "metadata": {
  "kernelspec": {
   "display_name": "Python 3 (ipykernel)",
   "language": "python",
   "name": "python3"
  },
  "language_info": {
   "codemirror_mode": {
    "name": "ipython",
    "version": 3
   },
   "file_extension": ".py",
   "mimetype": "text/x-python",
   "name": "python",
   "nbconvert_exporter": "python",
   "pygments_lexer": "ipython3",
   "version": "3.8.13"
  },
  "vscode": {
   "interpreter": {
    "hash": "e0a52404809a54c0f7d5bde0b5ca3eb704f16621512cd499580bc9b9f898e3de"
   }
  }
 },
 "nbformat": 4,
 "nbformat_minor": 4
}
