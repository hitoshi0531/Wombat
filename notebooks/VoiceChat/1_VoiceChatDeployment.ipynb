{
 "cells": [
  {
   "attachments": {},
   "cell_type": "markdown",
   "metadata": {
    "id": "smh_LhVjIg9s"
   },
   "source": [
    "## 1. Setup Repository"
   ]
  },
  {
   "cell_type": "code",
   "execution_count": null,
   "metadata": {
    "id": "4dL8A5y-NjtY"
   },
   "outputs": [],
   "source": [
    "#Chnage directory to the project folder\n",
    "cd C:\\Projects\\wombat\\api\\VoiceChat"
   ]
  },
  {
   "cell_type": "code",
   "execution_count": null,
   "metadata": {
    "id": "jTTOWPgjckKe"
   },
   "outputs": [],
   "source": [
    "#Initialise the repo\n",
    "git init"
   ]
  },
  {
   "attachments": {},
   "cell_type": "markdown",
   "metadata": {
    "id": "hGw8ot1UdHqg"
   },
   "source": [
    "Login into Github with your account (https://github.com/) and create a public repo with the name `VoiceChat`"
   ]
  },
  {
   "cell_type": "code",
   "execution_count": null,
   "metadata": {
    "id": "lpxHoo3SdDQo"
   },
   "outputs": [],
   "source": [
    "#Link repo with Github\n",
    "git remote add origin git@github.com:hitoshi0531/VoiceChat"
   ]
  },
  {
   "cell_type": "code",
   "execution_count": null,
   "metadata": {
    "id": "wUTBEa57URvJ"
   },
   "outputs": [],
   "source": [
    "git add .\n",
    "git commit -m \"init\""
   ]
  },
  {
   "cell_type": "code",
   "execution_count": null,
   "metadata": {
    "id": "Wv0pkcLkdbPL"
   },
   "outputs": [],
   "source": [
    "git push --set-upstream origin master"
   ]
  },
  {
   "attachments": {},
   "cell_type": "markdown",
   "metadata": {
    "id": "X6qeQSazZ8Pn"
   },
   "source": [
    "## 2. Build FastApi app"
   ]
  },
  {
   "cell_type": "code",
   "execution_count": null,
   "metadata": {
    "id": "zBD6K4MXC6rA"
   },
   "outputs": [],
   "source": [
    "#Create a new git branch called `fastapi`\n",
    "git checkout -b voicechat"
   ]
  },
  {
   "attachments": {},
   "cell_type": "markdown",
   "metadata": {
    "id": "844V13ChVvER"
   },
   "source": [
    "Create a file called `requirements.txt` with the following content:\n",
    "\n",
    "scikit-learn==1.1.3\n",
    "\n",
    "pandas==1.5.2\n",
    "\n",
    "numpy==1.23.5\n",
    "\n",
    "fastapi==0.88.0\n",
    "\n",
    "uvicorn==0.20.0\n",
    "\n",
    "joblib==1.2.0\n",
    "\n",
    "requests==2.28.2"
   ]
  },
  {
   "cell_type": "code",
   "execution_count": null,
   "metadata": {
    "id": "JKxxxokNWeX4"
   },
   "outputs": [],
   "source": [
    "vi requirements.txt"
   ]
  },
  {
   "attachments": {},
   "cell_type": "markdown",
   "metadata": {
    "id": "yTjwF_joDWnE"
   },
   "source": [
    "Create a file called `Dockerfile` with the following content:\n",
    "\n",
    "`FROM tiangolo/uvicorn-gunicorn-fastapi:python3.8`\n",
    "\n",
    "`COPY requirements.txt .`\n",
    "\n",
    "`RUN pip3 install -r requirements.txt`\n",
    "\n",
    "`COPY ./app /app`\n",
    "\n",
    "`COPY ./models /models`\n",
    "\n",
    "`CMD [\"gunicorn\", \"-k\", \"uvicorn.workers.UvicornWorker\", \"-c\", \"/gunicorn_conf.py\", \"main:app\"]`"
   ]
  },
  {
   "cell_type": "code",
   "execution_count": null,
   "metadata": {
    "id": "xfVIPBh9jmya"
   },
   "outputs": [],
   "source": [
    "vi Dockerfile"
   ]
  },
  {
   "attachments": {},
   "cell_type": "markdown",
   "metadata": {
    "id": "hkvRJNc7bLgG"
   },
   "source": [
    "Create a file called `main.py` in the `app` folder"
   ]
  },
  {
   "cell_type": "code",
   "execution_count": null,
   "metadata": {
    "id": "ra_c0rU3bLr1"
   },
   "outputs": [],
   "source": [
    "#Create a file called main.py in the app folder\n",
    "mkdir app\n",
    "vi app/main.py"
   ]
  },
  {
   "cell_type": "code",
   "execution_count": null,
   "metadata": {
    "id": "RIS1P4oUbc2y"
   },
   "outputs": [],
   "source": [
    "#Inside the main.py file, import FastAPI from fastapi, JSONResponse from starlette.responses\n",
    "from fastapi import FastAPI\n",
    "from starlette.responses import JSONResponse\n",
    "\n",
    "#In case of ML model, also import load from joblib and pandas\n",
    "from joblib import load\n",
    "import pandas as pd"
   ]
  },
  {
   "cell_type": "code",
   "execution_count": null,
   "metadata": {
    "id": "Kove3Um4b5Ya"
   },
   "outputs": [],
   "source": [
    "#Inside the main.py file, instantiate a FastAPI() class and save it into a variable called app\n",
    "app = FastAPI()"
   ]
  },
  {
   "cell_type": "code",
   "execution_count": null,
   "metadata": {
    "id": "d2mnwsgFcLPY"
   },
   "outputs": [],
   "source": [
    "#In case of ML model, Inside the main.py file, load your trained model from models folder and save it into a variable\n",
    "pipe = load('../models/pipeline.joblib')"
   ]
  },
  {
   "cell_type": "code",
   "execution_count": null,
   "metadata": {
    "id": "aTEPhGJPcZ0Z"
   },
   "outputs": [],
   "source": [
    "#Inside the main.py file, create a function called read_root() that will return a dictionary with Hello as key and World as value. Add a decorator to it in order to add a GET endpoint to app on the root\n",
    "@app.get(\"/\")\n",
    "def read_root():\n",
    "    return {\"Hello\": \"World\"}"
   ]
  },
  {
   "cell_type": "code",
   "execution_count": null,
   "metadata": {
    "id": "0gICH-K_dEn_"
   },
   "outputs": [],
   "source": [
    "#Inside the main.py file, create a function called healthcheck() that will return This API is all ready to go!. Add a decorator to it in order to add a GET endpoint to app on /health with status code 200\n",
    "@app.get('/health', status_code=200)\n",
    "def healthcheck():\n",
    "    return 'This API is all ready to go!'"
   ]
  },
  {
   "attachments": {},
   "cell_type": "markdown",
   "metadata": {
    "id": "_Xbp4Hf5df2d"
   },
   "source": [
    "Afterwards, inside the `main.py` file, create functions and complete the program "
   ]
  },
  {
   "cell_type": "code",
   "execution_count": null,
   "metadata": {
    "id": "-vmWigctgzXL"
   },
   "outputs": [],
   "source": [
    "git add .\n",
    "git commit -m \"init\""
   ]
  },
  {
   "cell_type": "code",
   "execution_count": null,
   "metadata": {
    "id": "llp9cR3rHunU"
   },
   "outputs": [],
   "source": [
    "#Build the image from the Dockerfile\n",
    "docker build -t toiletapi:latest ."
   ]
  },
  {
   "cell_type": "code",
   "execution_count": null,
   "metadata": {
    "id": "c5sRr-QchTXz"
   },
   "outputs": [],
   "source": [
    "#Run the built image with port 8080 mapped to 80\n",
    "docker run -dit --rm --name toiletapi -p 8080:80 toiletapi:latest"
   ]
  },
  {
   "cell_type": "code",
   "execution_count": null,
   "metadata": {},
   "outputs": [],
   "source": [
    "#See the log\n",
    "docker logs --tail 50 toiletapi"
   ]
  },
  {
   "attachments": {},
   "cell_type": "markdown",
   "metadata": {
    "id": "tByfFCRyhv_r"
   },
   "source": [
    "Open a browser and navigate through:\n",
    "\n",
    "http://localhost:8080\n",
    "\n",
    "http://localhost:8080/health\n",
    "\n",
    "\n",
    "http://localhost:8080/docs"
   ]
  },
  {
   "attachments": {},
   "cell_type": "markdown",
   "metadata": {
    "id": "m20qs369h9_H"
   },
   "source": [
    "In browser, copy-paste http://localhost:8080/{URI}?parameter1=A&parameter2=B"
   ]
  },
  {
   "cell_type": "code",
   "execution_count": null,
   "metadata": {
    "id": "XOPajUgJiJ8l"
   },
   "outputs": [],
   "source": [
    "#Stop the docker container\n",
    "docker stop toiletapi"
   ]
  },
  {
   "attachments": {},
   "cell_type": "markdown",
   "metadata": {
    "id": "vZFd_EdqiVZD"
   },
   "source": [
    "## 3. Deploy to Heroku"
   ]
  },
  {
   "cell_type": "code",
   "execution_count": null,
   "metadata": {
    "id": "swnnT_ihiVo5"
   },
   "outputs": [],
   "source": [
    "#Login into heroku via command line\n",
    "heroku login"
   ]
  },
  {
   "cell_type": "code",
   "execution_count": null,
   "metadata": {
    "id": "4Q9A-W42imWz"
   },
   "outputs": [],
   "source": [
    "#Create a heroku project via command line\n",
    "heroku create"
   ]
  },
  {
   "attachments": {},
   "cell_type": "markdown",
   "metadata": {
    "id": "5wLL-y2hiyaZ"
   },
   "source": [
    "Create a file called `heroku.yml` with the following content:\n",
    "\n",
    "<img src='https://drive.google.com/uc?id=1KbVLa2IL48F0aysgpsXTNXUXCgPbQ7dC' width=\"400\" height=\"150\">\n"
   ]
  },
  {
   "cell_type": "code",
   "execution_count": null,
   "metadata": {
    "id": "kTIYvYxMJHQA"
   },
   "outputs": [],
   "source": [
    "#Create a file called heroku.yml\n",
    "nano heroku.yml"
   ]
  },
  {
   "cell_type": "code",
   "execution_count": null,
   "metadata": {
    "colab": {
     "base_uri": "https://localhost:8080/",
     "height": 35
    },
    "id": "7bUFXnhJ3cLY",
    "outputId": "3186c317-4f0c-4af2-c70d-9f2871b2d8c5"
   },
   "outputs": [],
   "source": [
    "git add .\n",
    "git commit -m \"heroku\""
   ]
  },
  {
   "attachments": {},
   "cell_type": "markdown",
   "metadata": {
    "id": "F9W6NJfxjPjp"
   },
   "source": [
    "Set the stack of app to `container`"
   ]
  },
  {
   "cell_type": "code",
   "execution_count": null,
   "metadata": {
    "id": "GV6gUwNCjPyK"
   },
   "outputs": [],
   "source": [
    "heroku stack:set container"
   ]
  },
  {
   "attachments": {},
   "cell_type": "markdown",
   "metadata": {
    "id": "UC-dXvpEjmVn"
   },
   "source": [
    "Push changes to heroku"
   ]
  },
  {
   "cell_type": "code",
   "execution_count": null,
   "metadata": {
    "id": "kWHRr-v5jmhP"
   },
   "outputs": [],
   "source": [
    "#Push change to heroku\n",
    "git push heroku master"
   ]
  },
  {
   "attachments": {},
   "cell_type": "markdown",
   "metadata": {
    "id": "CcBG6EMNkNjr"
   },
   "source": [
    "On your browser go to the heroku page\n",
    "https://<project_name>.herokuapp.com/docs\n",
    "\n",
    "like:\n",
    "\n",
    "https://fast-temple-40998.herokuapp.com/docs"
   ]
  },
  {
   "attachments": {},
   "cell_type": "markdown",
   "metadata": {
    "id": "U4Tw6dqOkjSW"
   },
   "source": [
    "On your browser go to the heroku page\n",
    "https://<project_name>.herokuapp.com/mall/customers/segmentation/params?genre=Female&age=65&income=38&spending=35\n",
    "\n",
    "like:\n",
    "\n",
    "https://fast-temple-40998.herokuapp.com/mall/customers/segmentation/params?genre=Female&age=65&income=38&spending=35"
   ]
  },
  {
   "attachments": {},
   "cell_type": "markdown",
   "metadata": {
    "id": "1yX0Ocg4hcZM"
   },
   "source": [
    "## 4.   Push changes"
   ]
  },
  {
   "cell_type": "code",
   "execution_count": null,
   "metadata": {
    "id": "WaVAgJ4Aj7wi"
   },
   "outputs": [],
   "source": [
    "git push"
   ]
  },
  {
   "cell_type": "code",
   "execution_count": null,
   "metadata": {
    "id": "d6-AI0x7iA4M"
   },
   "outputs": [],
   "source": [
    "git checkout master"
   ]
  },
  {
   "cell_type": "code",
   "execution_count": null,
   "metadata": {
    "id": "5TJAEYxPjIRS"
   },
   "outputs": [],
   "source": [
    "git pull"
   ]
  },
  {
   "cell_type": "code",
   "execution_count": null,
   "metadata": {
    "id": "Db_lceBWEvzZ"
   },
   "outputs": [],
   "source": [
    "git checkout gmm_fastapi"
   ]
  },
  {
   "cell_type": "code",
   "execution_count": null,
   "metadata": {
    "id": "YNZunyVsiBXd"
   },
   "outputs": [],
   "source": [
    "#Merge the master branch and push changes\n",
    "git merge master\n",
    "git push"
   ]
  },
  {
   "attachments": {},
   "cell_type": "markdown",
   "metadata": {
    "id": "8B98cSvWkB-x"
   },
   "source": [
    "Go to Github and merge the branch after reviewing the code and fixing any conflict\n",
    "\n",
    "\n"
   ]
  },
  {
   "attachments": {},
   "cell_type": "markdown",
   "metadata": {
    "id": "EkQx18jYiEvQ"
   },
   "source": [
    "Stop the Docker container"
   ]
  },
  {
   "cell_type": "code",
   "execution_count": null,
   "metadata": {
    "id": "ovwOAbC5iE-T"
   },
   "outputs": [],
   "source": [
    "#Stop the Docker container\n",
    "docker stop adv_dsi_lab_5"
   ]
  }
 ],
 "metadata": {
  "kernelspec": {
   "display_name": "Python 3",
   "language": "python",
   "name": "python3"
  },
  "language_info": {
   "codemirror_mode": {
    "name": "ipython",
    "version": 3
   },
   "file_extension": ".py",
   "mimetype": "text/x-python",
   "name": "python",
   "nbconvert_exporter": "python",
   "pygments_lexer": "ipython3",
   "version": "3.8.10 (tags/v3.8.10:3d8993a, May  3 2021, 11:48:03) [MSC v.1928 64 bit (AMD64)]"
  },
  "orig_nbformat": 4,
  "vscode": {
   "interpreter": {
    "hash": "e0a52404809a54c0f7d5bde0b5ca3eb704f16621512cd499580bc9b9f898e3de"
   }
  }
 },
 "nbformat": 4,
 "nbformat_minor": 2
}
