{
 "cells": [
  {
   "cell_type": "markdown",
   "metadata": {},
   "source": [
    "## Change directory (on terminal)"
   ]
  },
  {
   "cell_type": "code",
   "execution_count": null,
   "metadata": {},
   "outputs": [],
   "source": [
    "cd C:\\Projects"
   ]
  },
  {
   "cell_type": "markdown",
   "metadata": {},
   "source": [
    "## Git command (bring my work to the remote repository)"
   ]
  },
  {
   "cell_type": "code",
   "execution_count": null,
   "metadata": {},
   "outputs": [],
   "source": [
    "#Show help (about remote in this case)\n",
    "git remote show --help\n",
    "\n",
    "#Check current remote repository (-v: including URL)\n",
    "git remote -v\n",
    "\n",
    "#Remove remote repo\n",
    "git remote rm  [remote repo name]\n",
    "\n",
    "#Clone existing remote repo to my local\n",
    "git clone git@github.com:aprilgum/adv-dsi-2022-at1-grp4.git\n",
    "\n",
    "#or Link my local repo \"at1_g4\" with github\n",
    "git remote add origin git@github.com:aprilgum/adv-dsi-2022-at1-grp4.git\n",
    "\n",
    "#Create a new branch to work on the assignement for myself\n",
    "git checkout -b hitoshi_work\n",
    "\n",
    "#Preventing push to master branch   \n",
    "git config branch.master.pushRemote no_push\n",
    "\n",
    "#Before git push, always update my local master\n",
    "#Checkout to my local master branch\n",
    "git checkout master\n",
    "\n",
    "#do [pull] or [fetch & merge]\n",
    "#Pull recent changes from remote master to local master\n",
    "git pull origin master\n",
    "\n",
    "#Get latest info from remote\n",
    "git fetch\n",
    "\n",
    "#Merge any changes from local master\n",
    "git merge master\n",
    "\n",
    "\n",
    "#Checkout my branch\n",
    "git checkout hitoshi_work\n",
    "\n",
    "\n",
    "#Confirm current status\n",
    "git status\n",
    "\n",
    "#Add my changes to git staging area\n",
    "git add .\n",
    "\n",
    "#Create the snapshot of my repository with a message\n",
    "git commit -m \"message\"\n",
    "\n",
    "#Push the current branch and set the remote as upstream\n",
    "git push --set-upstream origin hitoshi_work"
   ]
  },
  {
   "cell_type": "markdown",
   "metadata": {},
   "source": [
    "## Docker command"
   ]
  },
  {
   "cell_type": "code",
   "execution_count": 1,
   "metadata": {},
   "outputs": [
    {
     "ename": "SyntaxError",
     "evalue": "invalid syntax (739230821.py, line 2)",
     "output_type": "error",
     "traceback": [
      "\u001b[1;36m  Cell \u001b[1;32mIn [1], line 2\u001b[1;36m\u001b[0m\n\u001b[1;33m    cd C:\\Projects\\adv_dsi_2022\u001b[0m\n\u001b[1;37m       ^\u001b[0m\n\u001b[1;31mSyntaxError\u001b[0m\u001b[1;31m:\u001b[0m invalid syntax\n"
     ]
    }
   ],
   "source": [
    "#Change directory\n",
    "cd C:\\Projects\\adv_dsi_2022\n",
    "\n",
    "#Create a file called `Dockerfile` and add the following content:\n",
    "\"\"\"\"\n",
    "FROM jupyter/scipy-notebook:python-3.8.13\n",
    "RUN conda install xgboost\n",
    "RUN conda install boto3\n",
    "RUN conda install s3fs\n",
    "RUN conda install lime\n",
    "RUN conda install hyperopt\n",
    "RUN conda install graphviz\n",
    "RUN pip install torch torchvision torchtext --extra-index-url https://download.pytorch.org/whl/cpu\n",
    "ENV PYTHONPATH \"${PYTHONPATH}:/home/jovyan/work\"\n",
    "WORKDIR /home/jovyan/work\n",
    "\"\"\"\n",
    "\n",
    "#Build the image from the Dockerfile above\n",
    "# -t: Name and optionally a tag in the 'name:tag' format\n",
    "docker build -t scipy-notebook:latest .\n",
    "docker build -t fbprophet-notebook:latest .\n",
    "docker build -t xgboost-notebook:latest .\n",
    "docker build -t pytorch-notebook:latest .\n",
    "\n",
    "\n",
    "#Build and run the jupyter/scipy-notebook image for Python 3.8 (on branch)\n",
    "#runするときに~/Project/..みたいにしないで、相対パスなら${PWD}:/とか、絶対パスC:/みたくしてあげないと正しくマウントできない（Excerciseのコマンドどおりだとムリ）\n",
    "docker run  -dit --rm --name adv-dsi-2022-beer-prediction -p 8888:8888 -e JUPYTER_ENABLE_LAB=yes -v ${PWD}:/home/jovyan/work -v ${PWD}\\.aws:/home/jovyan/.aws -v ${PWD}\\src:/home/jovyan/work/src jupyter/scipy-notebook:python-3.8.13\n",
    "docker run  -dit --rm --name adv-dsi-2022-at1-grp4 -p 8888:8888 -e JUPYTER_ENABLE_LAB=yes -v ${PWD}:/home/jovyan/work -v ${PWD}\\.aws:/home/jovyan/.aws -v ${PWD}\\src:/home/jovyan/work/src jupyter/scipy-notebook:python-3.8.13\n",
    "\n",
    "#Launch Jupyter Lab: tail log, copy the URL and paste it on browser\n",
    "docker logs --tail 50 adv-dsi-2022-beer-prediction\n",
    "docker logs --tail 50 adv-dsi-2022-at1-grp4\n"
   ]
  },
  {
   "cell_type": "markdown",
   "metadata": {},
   "source": [
    "## Python command"
   ]
  },
  {
   "cell_type": "code",
   "execution_count": null,
   "metadata": {},
   "outputs": [],
   "source": [
    "#Save the dataframe locally in the form of CSV\n",
    "df.to_csv('../data/raw/NNN.csv')"
   ]
  }
 ],
 "metadata": {
  "kernelspec": {
   "display_name": "Python 3.8.10 64-bit",
   "language": "python",
   "name": "python3"
  },
  "language_info": {
   "codemirror_mode": {
    "name": "ipython",
    "version": 3
   },
   "file_extension": ".py",
   "mimetype": "text/x-python",
   "name": "python",
   "nbconvert_exporter": "python",
   "pygments_lexer": "ipython3",
   "version": "3.8.10 (tags/v3.8.10:3d8993a, May  3 2021, 11:48:03) [MSC v.1928 64 bit (AMD64)]"
  },
  "orig_nbformat": 4,
  "vscode": {
   "interpreter": {
    "hash": "e0a52404809a54c0f7d5bde0b5ca3eb704f16621512cd499580bc9b9f898e3de"
   }
  }
 },
 "nbformat": 4,
 "nbformat_minor": 2
}
